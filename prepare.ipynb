{
 "cells": [
  {
   "cell_type": "markdown",
   "metadata": {},
   "source": [
    "# <center> Assignment 1\n",
    "## <center> Preparation\n",
    "### <div align='right'> Muhammed Jassim </div>\n",
    "### <div align='right'> MDS202220 </div>"
   ]
  },
  {
   "cell_type": "code",
   "execution_count": 1,
   "metadata": {},
   "outputs": [],
   "source": [
    "import pandas as pd\n",
    "from sklearn.model_selection import train_test_split"
   ]
  },
  {
   "cell_type": "markdown",
   "metadata": {},
   "source": [
    "### Loading data"
   ]
  },
  {
   "cell_type": "code",
   "execution_count": 2,
   "metadata": {},
   "outputs": [],
   "source": [
    "def load_data(file_path):\n",
    "    data = pd.read_csv(file_path)\n",
    "    return data"
   ]
  },
  {
   "cell_type": "markdown",
   "metadata": {},
   "source": [
    "### Preprocessing"
   ]
  },
  {
   "cell_type": "code",
   "execution_count": 7,
   "metadata": {},
   "outputs": [],
   "source": [
    "import string\n",
    "from nltk.corpus import stopwords\n",
    "from nltk.tokenize import  word_tokenize\n",
    "from nltk.stem import PorterStemmer\n",
    "\n",
    "def preprocess_data(data):\n",
    "    data['text'] = data['text'].apply(lambda x: x.lower())  # lowercasing\n",
    "    data['text'] = data['text'].apply(lambda x: x.translate(str.maketrans('', '', string.punctuation))) # punctuation removal\n",
    "    data['text'] = data['text'].apply(lambda x: word_tokenize(x))   # tokenization\n",
    "    stop_words = set(stopwords.words('english'))\n",
    "    data['text'] = data['text'].apply(lambda tokens: [token for token in tokens if token not in stop_words])    # stop-word removal\n",
    "    stemmer = PorterStemmer()\n",
    "    data['text'] = data['text'].apply(lambda tokens: [stemmer.stem(token) for token in tokens]) # stemming\n",
    "    data['text'] = data['text'].apply(lambda tokens: ' '.join(tokens))  # joining preprocessed tokens to form text\n",
    "\n",
    "    return data"
   ]
  },
  {
   "cell_type": "markdown",
   "metadata": {},
   "source": [
    "### Train/validation/test splitting"
   ]
  },
  {
   "cell_type": "code",
   "execution_count": 9,
   "metadata": {},
   "outputs": [],
   "source": [
    "def split_data(data):\n",
    "    train, test = train_test_split(data, test_size=0.2, random_state=42)\n",
    "    train, validation = train_test_split(train, test_size=0.2, random_state=42)\n",
    "    return train, validation, test"
   ]
  },
  {
   "cell_type": "markdown",
   "metadata": {},
   "source": [
    "### Storing split data"
   ]
  },
  {
   "cell_type": "code",
   "execution_count": 10,
   "metadata": {},
   "outputs": [],
   "source": [
    "def store_splits(train, validation, test):\n",
    "    train.to_csv('./data/train.csv', index=False)\n",
    "    validation.to_csv('./data/validation.csv', index=False)\n",
    "    test.to_csv('./data/test.csv', index=False)"
   ]
  }
 ],
 "metadata": {
  "kernelspec": {
   "display_name": "cmi",
   "language": "python",
   "name": "python3"
  },
  "language_info": {
   "codemirror_mode": {
    "name": "ipython",
    "version": 3
   },
   "file_extension": ".py",
   "mimetype": "text/x-python",
   "name": "python",
   "nbconvert_exporter": "python",
   "pygments_lexer": "ipython3",
   "version": "3.10.11"
  }
 },
 "nbformat": 4,
 "nbformat_minor": 2
}
